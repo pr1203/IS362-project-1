{
 "cells": [
  {
   "attachments": {},
   "cell_type": "markdown",
   "metadata": {},
   "source": [
    "# IS 362 – Project 1\n",
    "\n",
    "### Assignment\n",
    "\n",
    "1. Create a .CSV file (or optionally, a MySQL database!) that includes all of the information below. You may change\n",
    "the structure of the information as you like.\n",
    "2. Read the information from your .CSV file into pandas, and perform analysis to compare the arrival delays for the\n",
    "two airlines.\n",
    "3. Your code should be in a Jupyter (IPython) notebook (in GitHub), and should include narrative descriptions of your\n",
    "analysis and conclusions."
   ]
  },
  {
   "attachments": {},
   "cell_type": "markdown",
   "metadata": {},
   "source": [
    "#### The following is an analysis of the flight delays among Alaska airlines and AW West airlines for travel to Los Angelos, Pheonix, San Diego, San Francisco and Seattle."
   ]
  },
  {
   "cell_type": "code",
   "execution_count": 54,
   "metadata": {
    "collapsed": true
   },
   "outputs": [],
   "source": [
    "import pandas as pd"
   ]
  },
  {
   "cell_type": "code",
   "execution_count": 55,
   "metadata": {
    "collapsed": false
   },
   "outputs": [],
   "source": [
    "#Read information from the csv file into pandas\n",
    "airline_data=pd.read_csv(\"/Users/candacegrant/Desktop/IS362 Date Acquisition/IS362 Project 1.csv\")\n",
    "\n"
   ]
  },
  {
   "cell_type": "code",
   "execution_count": 56,
   "metadata": {
    "collapsed": false
   },
   "outputs": [
    {
     "data": {
      "text/html": [
       "<div>\n",
       "<table border=\"1\" class=\"dataframe\">\n",
       "  <thead>\n",
       "    <tr style=\"text-align: right;\">\n",
       "      <th></th>\n",
       "      <th>City</th>\n",
       "      <th>Alaska_On_Time</th>\n",
       "      <th>Alaska_Delay</th>\n",
       "      <th>AM WEST_On_Time</th>\n",
       "      <th>AM WEST_Delay</th>\n",
       "    </tr>\n",
       "  </thead>\n",
       "  <tbody>\n",
       "    <tr>\n",
       "      <th>0</th>\n",
       "      <td>Los Angelos</td>\n",
       "      <td>497</td>\n",
       "      <td>62</td>\n",
       "      <td>694</td>\n",
       "      <td>117</td>\n",
       "    </tr>\n",
       "    <tr>\n",
       "      <th>1</th>\n",
       "      <td>Pheonix</td>\n",
       "      <td>221</td>\n",
       "      <td>12</td>\n",
       "      <td>4840</td>\n",
       "      <td>415</td>\n",
       "    </tr>\n",
       "    <tr>\n",
       "      <th>2</th>\n",
       "      <td>San Diego</td>\n",
       "      <td>212</td>\n",
       "      <td>20</td>\n",
       "      <td>383</td>\n",
       "      <td>65</td>\n",
       "    </tr>\n",
       "    <tr>\n",
       "      <th>3</th>\n",
       "      <td>San Francisco</td>\n",
       "      <td>503</td>\n",
       "      <td>102</td>\n",
       "      <td>320</td>\n",
       "      <td>129</td>\n",
       "    </tr>\n",
       "    <tr>\n",
       "      <th>4</th>\n",
       "      <td>Seattle</td>\n",
       "      <td>1841</td>\n",
       "      <td>305</td>\n",
       "      <td>201</td>\n",
       "      <td>61</td>\n",
       "    </tr>\n",
       "  </tbody>\n",
       "</table>\n",
       "</div>"
      ],
      "text/plain": [
       "             City  Alaska_On_Time  Alaska_Delay  AM WEST_On_Time  \\\n",
       "0     Los Angelos             497            62              694   \n",
       "1         Pheonix             221            12             4840   \n",
       "2       San Diego             212            20              383   \n",
       "3  San Francisco              503           102              320   \n",
       "4         Seattle            1841           305              201   \n",
       "\n",
       "   AM WEST_Delay  \n",
       "0            117  \n",
       "1            415  \n",
       "2             65  \n",
       "3            129  \n",
       "4             61  "
      ]
     },
     "execution_count": 56,
     "metadata": {},
     "output_type": "execute_result"
    }
   ],
   "source": [
    "#Analysis of the first 5 rows to check the validity of the data.\n",
    "airline_data.head()"
   ]
  },
  {
   "cell_type": "code",
   "execution_count": 57,
   "metadata": {
    "collapsed": false
   },
   "outputs": [
    {
     "data": {
      "text/plain": [
       "0    11.091234\n",
       "1     5.150215\n",
       "2     8.620690\n",
       "3    16.859504\n",
       "4    14.212488\n",
       "Name: Alaska_Percent_Delay, dtype: float64"
      ]
     },
     "execution_count": 57,
     "metadata": {},
     "output_type": "execute_result"
    }
   ],
   "source": [
    "#I calculated the percent of Alaska Airlines flights that were delayed for each of the 5 destinations\n",
    "# The delayed flights divided by the total flights times 100 gives you the percent of total flights delayed.\n",
    "# The results of the calculation are set to a new column called \"Alaska_Percent_Delay\"\n",
    "\n",
    "airline_data['Total_Alaska_Flights'] = airline_data['Alaska_On_Time'] + airline_data['Alaska_Delay']\n",
    "\n",
    "airline_data['Alaska_Percent_Delay'] = (airline_data['Alaska_Delay'] / airline_data['Total_Alaska_Flights']) * 100\n",
    "\n",
    "airline_data['Alaska_Percent_Delay']"
   ]
  },
  {
   "cell_type": "code",
   "execution_count": 58,
   "metadata": {
    "collapsed": false
   },
   "outputs": [
    {
     "data": {
      "text/plain": [
       "0    14.426634\n",
       "1     7.897241\n",
       "2    14.508929\n",
       "3    28.730512\n",
       "4    23.282443\n",
       "Name: AMWest_Percent_Delay, dtype: float64"
      ]
     },
     "execution_count": 58,
     "metadata": {},
     "output_type": "execute_result"
    }
   ],
   "source": [
    "# The same  proces is followed for finding the  per cent of AM West flights delayed.\n",
    "# Set the results of the calculation to a new column called \"AM West_Percent_Delayed\"\n",
    "\n",
    "airline_data['Total_AMWest'] = airline_data['AM WEST_Delay'] + airline_data['AM WEST_On_Time']\n",
    "\n",
    "airline_data['AMWest_Percent_Delay'] = (airline_data['AM WEST_Delay'] / airline_data['Total_AMWest']) * 100\n",
    "\n",
    "airline_data['AMWest_Percent_Delay']"
   ]
  },
  {
   "cell_type": "code",
   "execution_count": 61,
   "metadata": {
    "collapsed": false
   },
   "outputs": [
    {
     "data": {
      "text/html": [
       "<div>\n",
       "<table border=\"1\" class=\"dataframe\">\n",
       "  <thead>\n",
       "    <tr style=\"text-align: right;\">\n",
       "      <th></th>\n",
       "      <th>Alaska_Percent_Delay</th>\n",
       "      <th>AMWest_Percent_Delay</th>\n",
       "    </tr>\n",
       "  </thead>\n",
       "  <tbody>\n",
       "    <tr>\n",
       "      <th>0</th>\n",
       "      <td>11.091234</td>\n",
       "      <td>14.426634</td>\n",
       "    </tr>\n",
       "    <tr>\n",
       "      <th>1</th>\n",
       "      <td>5.150215</td>\n",
       "      <td>7.897241</td>\n",
       "    </tr>\n",
       "    <tr>\n",
       "      <th>2</th>\n",
       "      <td>8.620690</td>\n",
       "      <td>14.508929</td>\n",
       "    </tr>\n",
       "    <tr>\n",
       "      <th>3</th>\n",
       "      <td>16.859504</td>\n",
       "      <td>28.730512</td>\n",
       "    </tr>\n",
       "    <tr>\n",
       "      <th>4</th>\n",
       "      <td>14.212488</td>\n",
       "      <td>23.282443</td>\n",
       "    </tr>\n",
       "  </tbody>\n",
       "</table>\n",
       "</div>"
      ],
      "text/plain": [
       "   Alaska_Percent_Delay  AMWest_Percent_Delay\n",
       "0             11.091234             14.426634\n",
       "1              5.150215              7.897241\n",
       "2              8.620690             14.508929\n",
       "3             16.859504             28.730512\n",
       "4             14.212488             23.282443"
      ]
     },
     "execution_count": 61,
     "metadata": {},
     "output_type": "execute_result"
    }
   ],
   "source": [
    "# I can visually compare the delays of the two airlines at each destination\n",
    "# It is clear that AM West airline has a greater percent of flights delayed at every destination.\n",
    "\n",
    "airline_data[['Alaska_Percent_Delay', 'AMWest_Percent_Delay']]"
   ]
  },
  {
   "cell_type": "code",
   "execution_count": 64,
   "metadata": {
    "collapsed": false
   },
   "outputs": [
    {
     "data": {
      "text/plain": [
       "0    AMWest\n",
       "1    AMWest\n",
       "2    AMWest\n",
       "3    AMWest\n",
       "4    AMWest\n",
       "Name: Most_Delayed_Airline, dtype: object"
      ]
     },
     "execution_count": 64,
     "metadata": {},
     "output_type": "execute_result"
    }
   ],
   "source": [
    "for index, row in airline_data.iterrows():\n",
    "    if row[\"Alaska_Percent_Delay\"] > row[\"AMWest_Percent_Delay\"]:\n",
    "        airline_data.loc[index, 'Most_Delayed_Airline'] = 'Alaska'\n",
    "    else:\n",
    "        airline_data.loc[index, 'Most_Delayed_Airline'] = 'AMWest'\n",
    "\n",
    "airline_data['Most_Delayed_Airline']"
   ]
  },
  {
   "cell_type": "code",
   "execution_count": 65,
   "metadata": {
    "collapsed": false
   },
   "outputs": [
    {
     "data": {
      "text/html": [
       "<div>\n",
       "<table border=\"1\" class=\"dataframe\">\n",
       "  <thead>\n",
       "    <tr style=\"text-align: right;\">\n",
       "      <th></th>\n",
       "      <th>City</th>\n",
       "      <th>Alaska_On_Time</th>\n",
       "      <th>Alaska_Delay</th>\n",
       "      <th>AM WEST_On_Time</th>\n",
       "      <th>AM WEST_Delay</th>\n",
       "      <th>Total_Alaska_Flights</th>\n",
       "      <th>Alaska_Percent_Delay</th>\n",
       "      <th>Total_AMWest</th>\n",
       "      <th>AMWest_Percent_Delay</th>\n",
       "      <th>Most_Delayed_Airline</th>\n",
       "    </tr>\n",
       "  </thead>\n",
       "  <tbody>\n",
       "    <tr>\n",
       "      <th>0</th>\n",
       "      <td>Los Angelos</td>\n",
       "      <td>497</td>\n",
       "      <td>62</td>\n",
       "      <td>694</td>\n",
       "      <td>117</td>\n",
       "      <td>559</td>\n",
       "      <td>11.091234</td>\n",
       "      <td>811</td>\n",
       "      <td>14.426634</td>\n",
       "      <td>AMWest</td>\n",
       "    </tr>\n",
       "    <tr>\n",
       "      <th>1</th>\n",
       "      <td>Pheonix</td>\n",
       "      <td>221</td>\n",
       "      <td>12</td>\n",
       "      <td>4840</td>\n",
       "      <td>415</td>\n",
       "      <td>233</td>\n",
       "      <td>5.150215</td>\n",
       "      <td>5255</td>\n",
       "      <td>7.897241</td>\n",
       "      <td>AMWest</td>\n",
       "    </tr>\n",
       "    <tr>\n",
       "      <th>2</th>\n",
       "      <td>San Diego</td>\n",
       "      <td>212</td>\n",
       "      <td>20</td>\n",
       "      <td>383</td>\n",
       "      <td>65</td>\n",
       "      <td>232</td>\n",
       "      <td>8.620690</td>\n",
       "      <td>448</td>\n",
       "      <td>14.508929</td>\n",
       "      <td>AMWest</td>\n",
       "    </tr>\n",
       "    <tr>\n",
       "      <th>3</th>\n",
       "      <td>San Francisco</td>\n",
       "      <td>503</td>\n",
       "      <td>102</td>\n",
       "      <td>320</td>\n",
       "      <td>129</td>\n",
       "      <td>605</td>\n",
       "      <td>16.859504</td>\n",
       "      <td>449</td>\n",
       "      <td>28.730512</td>\n",
       "      <td>AMWest</td>\n",
       "    </tr>\n",
       "    <tr>\n",
       "      <th>4</th>\n",
       "      <td>Seattle</td>\n",
       "      <td>1841</td>\n",
       "      <td>305</td>\n",
       "      <td>201</td>\n",
       "      <td>61</td>\n",
       "      <td>2146</td>\n",
       "      <td>14.212488</td>\n",
       "      <td>262</td>\n",
       "      <td>23.282443</td>\n",
       "      <td>AMWest</td>\n",
       "    </tr>\n",
       "  </tbody>\n",
       "</table>\n",
       "</div>"
      ],
      "text/plain": [
       "             City  Alaska_On_Time  Alaska_Delay  AM WEST_On_Time  \\\n",
       "0     Los Angelos             497            62              694   \n",
       "1         Pheonix             221            12             4840   \n",
       "2       San Diego             212            20              383   \n",
       "3  San Francisco              503           102              320   \n",
       "4         Seattle            1841           305              201   \n",
       "\n",
       "   AM WEST_Delay  Total_Alaska_Flights  Alaska_Percent_Delay  Total_AMWest  \\\n",
       "0            117                   559             11.091234           811   \n",
       "1            415                   233              5.150215          5255   \n",
       "2             65                   232              8.620690           448   \n",
       "3            129                   605             16.859504           449   \n",
       "4             61                  2146             14.212488           262   \n",
       "\n",
       "   AMWest_Percent_Delay Most_Delayed_Airline  \n",
       "0             14.426634               AMWest  \n",
       "1              7.897241               AMWest  \n",
       "2             14.508929               AMWest  \n",
       "3             28.730512               AMWest  \n",
       "4             23.282443               AMWest  "
      ]
     },
     "execution_count": 65,
     "metadata": {},
     "output_type": "execute_result"
    }
   ],
   "source": [
    "airline_data"
   ]
  }
 ],
 "metadata": {
  "kernelspec": {
   "display_name": "Python 3",
   "language": "python",
   "name": "python3"
  },
  "language_info": {
   "codemirror_mode": {
    "name": "ipython",
    "version": 3
   },
   "file_extension": ".py",
   "mimetype": "text/x-python",
   "name": "python",
   "nbconvert_exporter": "python",
   "pygments_lexer": "ipython3",
   "version": "3.6.0"
  }
 },
 "nbformat": 4,
 "nbformat_minor": 2
}
